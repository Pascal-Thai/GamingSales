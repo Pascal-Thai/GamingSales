{
 "cells": [
  {
   "cell_type": "code",
   "execution_count": 1,
   "metadata": {},
   "outputs": [],
   "source": [
    "# Import des librairies nécessaires \n",
    "import pandas as pd\n",
    "import numpy as np\n",
    "import time\n",
    "import re\n",
    "%matplotlib inline\n",
    "from tqdm import tqdm\n",
    "from urllib.request import urlopen,Request\n",
    "from bs4 import BeautifulSoup\n",
    "from googlesearch import search\n"
   ]
  },
  {
   "cell_type": "code",
   "execution_count": 2,
   "metadata": {},
   "outputs": [
    {
     "name": "stdout",
     "output_type": "stream",
     "text": [
      "Collecting nordvpn-switcher\n",
      "  Downloading nordvpn_switcher-0.2.9-py3-none-any.whl (18 kB)\n",
      "Collecting bs4\n",
      "  Downloading bs4-0.0.1.tar.gz (1.1 kB)\n",
      "Collecting random-user-agent\n",
      "  Downloading random_user_agent-1.0.1-py3-none-any.whl (8.2 MB)\n",
      "\u001b[K     |████████████████████████████████| 8.2 MB 4.8 MB/s eta 0:00:01\n",
      "\u001b[?25hRequirement already satisfied: lxml in /opt/anaconda3/lib/python3.8/site-packages (from nordvpn-switcher) (4.6.3)\n",
      "Requirement already satisfied: requests in /opt/anaconda3/lib/python3.8/site-packages (from nordvpn-switcher) (2.25.1)\n",
      "Requirement already satisfied: psutil in /opt/anaconda3/lib/python3.8/site-packages (from nordvpn-switcher) (5.8.0)\n",
      "Collecting pathlib\n",
      "  Downloading pathlib-1.0.1.tar.gz (49 kB)\n",
      "\u001b[K     |████████████████████████████████| 49 kB 14.0 MB/s eta 0:00:01\n",
      "\u001b[?25hRequirement already satisfied: beautifulsoup4 in /opt/anaconda3/lib/python3.8/site-packages (from bs4->nordvpn-switcher) (4.9.3)\n",
      "Requirement already satisfied: soupsieve>1.2 in /opt/anaconda3/lib/python3.8/site-packages (from beautifulsoup4->bs4->nordvpn-switcher) (2.2.1)\n",
      "Requirement already satisfied: certifi>=2017.4.17 in /opt/anaconda3/lib/python3.8/site-packages (from requests->nordvpn-switcher) (2020.12.5)\n",
      "Requirement already satisfied: idna<3,>=2.5 in /opt/anaconda3/lib/python3.8/site-packages (from requests->nordvpn-switcher) (2.10)\n",
      "Requirement already satisfied: urllib3<1.27,>=1.21.1 in /opt/anaconda3/lib/python3.8/site-packages (from requests->nordvpn-switcher) (1.26.4)\n",
      "Requirement already satisfied: chardet<5,>=3.0.2 in /opt/anaconda3/lib/python3.8/site-packages (from requests->nordvpn-switcher) (4.0.0)\n",
      "Building wheels for collected packages: bs4, pathlib\n",
      "  Building wheel for bs4 (setup.py) ... \u001b[?25ldone\n",
      "\u001b[?25h  Created wheel for bs4: filename=bs4-0.0.1-py3-none-any.whl size=1273 sha256=6a0fec6386fbd6a792ee75cce5ba0db73821d584f348ba243d763cc92fbb0565\n",
      "  Stored in directory: /Users/pascal.thai/Library/Caches/pip/wheels/75/78/21/68b124549c9bdc94f822c02fb9aa3578a669843f9767776bca\n",
      "  Building wheel for pathlib (setup.py) ... \u001b[?25ldone\n",
      "\u001b[?25h  Created wheel for pathlib: filename=pathlib-1.0.1-py3-none-any.whl size=14347 sha256=a622bb5c3096ad1958afc74f7915132204028b23e7c791d3065691c96a38f1d0\n",
      "  Stored in directory: /Users/pascal.thai/Library/Caches/pip/wheels/59/02/2f/ff4a3e16a518feb111ae1405908094483ef56fec0dfa39e571\n",
      "Successfully built bs4 pathlib\n",
      "Installing collected packages: random-user-agent, pathlib, bs4, nordvpn-switcher\n",
      "Successfully installed bs4-0.0.1 nordvpn-switcher-0.2.9 pathlib-1.0.1 random-user-agent-1.0.1\n"
     ]
    },
    {
     "ename": "Exception",
     "evalue": "I'm sorry, NordVPN switcher only works for Windows and Linux machines.",
     "output_type": "error",
     "traceback": [
      "\u001b[0;31m---------------------------------------------------------------------------\u001b[0m",
      "\u001b[0;31mException\u001b[0m                                 Traceback (most recent call last)",
      "\u001b[0;32m<ipython-input-2-8449c7765a88>\u001b[0m in \u001b[0;36m<module>\u001b[0;34m\u001b[0m\n\u001b[1;32m      3\u001b[0m \u001b[0mget_ipython\u001b[0m\u001b[0;34m(\u001b[0m\u001b[0;34m)\u001b[0m\u001b[0;34m.\u001b[0m\u001b[0msystem\u001b[0m\u001b[0;34m(\u001b[0m\u001b[0;34m'pip install nordvpn-switcher'\u001b[0m\u001b[0;34m)\u001b[0m\u001b[0;34m\u001b[0m\u001b[0;34m\u001b[0m\u001b[0m\n\u001b[1;32m      4\u001b[0m \u001b[0;32mfrom\u001b[0m \u001b[0mnordvpn_switcher\u001b[0m \u001b[0;32mimport\u001b[0m \u001b[0minitialize_VPN\u001b[0m\u001b[0;34m,\u001b[0m\u001b[0mrotate_VPN\u001b[0m\u001b[0;34m,\u001b[0m\u001b[0mterminate_VPN\u001b[0m\u001b[0;34m\u001b[0m\u001b[0;34m\u001b[0m\u001b[0m\n\u001b[0;32m----> 5\u001b[0;31m \u001b[0msettings\u001b[0m\u001b[0;34m=\u001b[0m\u001b[0minitialize_VPN\u001b[0m\u001b[0;34m(\u001b[0m\u001b[0marea_input\u001b[0m\u001b[0;34m=\u001b[0m\u001b[0;34m[\u001b[0m\u001b[0;34m'France'\u001b[0m\u001b[0;34m,\u001b[0m\u001b[0;34m'Belgium'\u001b[0m\u001b[0;34m]\u001b[0m\u001b[0;34m)\u001b[0m\u001b[0;34m\u001b[0m\u001b[0;34m\u001b[0m\u001b[0m\n\u001b[0m",
      "\u001b[0;32m/opt/anaconda3/lib/python3.8/site-packages/nordvpn_switcher/nordvpn_switch.py\u001b[0m in \u001b[0;36minitialize_VPN\u001b[0;34m(stored_settings, save, area_input, skip_settings)\u001b[0m\n\u001b[1;32m    241\u001b[0m \u001b[0;34m\u001b[0m\u001b[0m\n\u001b[1;32m    242\u001b[0m     \u001b[0;32melse\u001b[0m\u001b[0;34m:\u001b[0m\u001b[0;34m\u001b[0m\u001b[0;34m\u001b[0m\u001b[0m\n\u001b[0;32m--> 243\u001b[0;31m         \u001b[0;32mraise\u001b[0m \u001b[0mException\u001b[0m\u001b[0;34m(\u001b[0m\u001b[0;34m\"I'm sorry, NordVPN switcher only works for Windows and Linux machines.\"\u001b[0m\u001b[0;34m)\u001b[0m\u001b[0;34m\u001b[0m\u001b[0;34m\u001b[0m\u001b[0m\n\u001b[0m\u001b[1;32m    244\u001b[0m \u001b[0;34m\u001b[0m\u001b[0m\n\u001b[1;32m    245\u001b[0m     \u001b[0;31m###provide settings for VPN rotation###\u001b[0m\u001b[0;34m\u001b[0m\u001b[0;34m\u001b[0m\u001b[0;34m\u001b[0m\u001b[0m\n",
      "\u001b[0;31mException\u001b[0m: I'm sorry, NordVPN switcher only works for Windows and Linux machines."
     ]
    }
   ],
   "source": [
    "# Installation et import des outils NordVpn permettant de tourner sur plusieurs serveurs VPN\n",
    "# Choix de la localisation des serveurs : France et Belgique\n",
    "!pip install nordvpn-switcher\n",
    "from nordvpn_switcher import initialize_VPN,rotate_VPN,terminate_VPN\n",
    "settings=initialize_VPN(area_input=['France','Belgium'])"
   ]
  },
  {
   "cell_type": "code",
   "execution_count": 3,
   "metadata": {},
   "outputs": [
    {
     "ename": "SyntaxError",
     "evalue": "EOF while scanning triple-quoted string literal (<ipython-input-3-46d3a81e4739>, line 3)",
     "output_type": "error",
     "traceback": [
      "\u001b[0;36m  File \u001b[0;32m\"<ipython-input-3-46d3a81e4739>\"\u001b[0;36m, line \u001b[0;32m3\u001b[0m\n\u001b[0;31m    df['top']=''''\u001b[0m\n\u001b[0m                  ^\u001b[0m\n\u001b[0;31mSyntaxError\u001b[0m\u001b[0;31m:\u001b[0m EOF while scanning triple-quoted string literal\n"
     ]
    }
   ],
   "source": [
    "#Lecture fichier et initialisation colonne top (indicateur de traitement)\n",
    "df = pd.read_csv(r\"vgsales.csv\")\n",
    "df['top']=''''"
   ]
  },
  {
   "cell_type": "code",
   "execution_count": 6,
   "metadata": {},
   "outputs": [],
   "source": [
    "# Fonction de lecture par balise classe via Beautiful soup\n",
    "def lec_class_soup(classe,soup):\n",
    "    result='not found'\n",
    "    x= soup.select(classe)\n",
    "    for n in x:\n",
    "        result=n.text\n",
    "    return(result)"
   ]
  },
  {
   "cell_type": "code",
   "execution_count": 7,
   "metadata": {},
   "outputs": [],
   "source": [
    "#Fonction de lecture du fichier initial, scraping de métacritic\n",
    "# et ajout des colonnes :\n",
    "#metascorewrap : metascore (score + nb critiques) issus de metacritic, basé sur une synthèse des critiques\n",
    "#sur les différents sites de jeux vidéo\n",
    "#userscorewrap : note des utilisateurs et nombre de votes associés\n",
    "#gamename : nom du jeu pour vérification de concordance\n",
    "#developper : studio de développement\n",
    "\n",
    "def scrape_and_fill(df):\n",
    "    starting_index = df[df['top'] == \"\"].index[0]\n",
    "    roll=1 # roll=1, on change de serveur VPN à chaque appel de la fonction\n",
    "    #Lecture du dataset en débutant à la premiere ligne non traitée\n",
    "    for i, row in tqdm(df.loc[starting_index:].iterrows(), total = len(df) - starting_index):\n",
    "            #Changement de serveur VPN toutes les 20 lignes ou en cas d'erreur html\n",
    "            if (((i%20)==0) or (roll==1)):\n",
    "                rotate_VPN(settings,google_check=1)\n",
    "                fichier='vgsales2_'+str(i)+'.csv' #fichier intermédiaire de sauvegarde\n",
    "                df.to_csv(fichier, index = False)\n",
    "                roll=0\n",
    "            time.sleep(np.random.randint(2, 10)) #temprisation aléatoire pour simuler utilisation humaine\n",
    "            try: # lecture site metacritic\n",
    "                for url in search('metacritic.com/game '+row['Name'], tld='com', start=0, stop=1, pause=2.0):\n",
    "                  if ('metacritic' in url):  # Vérification du site\n",
    "                    req = Request(url,headers={'User-Agent': 'Chrome/94.0.4606.71'})\n",
    "                    page_criti = urlopen(req).read()\n",
    "                    soup = BeautifulSoup(page_criti, 'html.parser')\n",
    "                    #initialisation données\n",
    "                    df.loc[i, 'metascorewrap'] = lec_class_soup('.metascore_wrap',soup)\n",
    "                    df.loc[i, 'userscorewrap'] = lec_class_soup('.userscore_wrap',soup)\n",
    "                    df.loc[i, 'gamename'] = lec_class_soup('h1',soup)\n",
    "                    df.loc[i, 'top'] = 1                                                           \n",
    "                    developper='not found'\n",
    "                    x=soup.findAll(name = 'a', attrs = {'class':'button'})\n",
    "                    for n in x:\n",
    "                        developper=n.text\n",
    "                    df.loc[i, 'developper'] = developper\n",
    "                  else: #Données non trouvées\n",
    "                     df.loc[i, 'metascorewrap'] = df.loc[i, 'userscorewrap'] =  'not found'\n",
    "                     df.loc[i, 'gamename'] = df.loc[i, 'developper'] = 'not found'                                                           \n",
    "                     df.loc[i, 'top'] = 1\n",
    "                    \n",
    "            except(RuntimeError, TypeError, NameError):\n",
    "                fichier='vgsales2_'+str(i)+'.csv' #fichier intermédiaire de sauvegarde\n",
    "                df.to_csv(fichier, index = False)\n",
    "                scrape_and_fill(df) # Si erreur à l'exécution ,rappel récursif de la fonction au dernier point traité\n",
    "            except:\n",
    "                fichier='vgsales2_'+str(i)+'.csv'\n",
    "                df.to_csv(fichier, index = False) #fichier intermédiaire de sauvegarde\n",
    "                scrape_and_fill(df) # Si erreur à l'exécution ,rappel récursif de la fonction au dernier point traité\n",
    "    df.to_csv(\"vgsales2_new.csv\", index = False)\n",
    "    return df\n"
   ]
  },
  {
   "cell_type": "code",
   "execution_count": null,
   "metadata": {},
   "outputs": [],
   "source": [
    "scrape_and_fill(df)"
   ]
  }
 ],
 "metadata": {
  "hide_input": false,
  "kernelspec": {
   "display_name": "Python 3",
   "language": "python",
   "name": "python3"
  },
  "language_info": {
   "codemirror_mode": {
    "name": "ipython",
    "version": 3
   },
   "file_extension": ".py",
   "mimetype": "text/x-python",
   "name": "python",
   "nbconvert_exporter": "python",
   "pygments_lexer": "ipython3",
   "version": "3.8.8"
  },
  "nbTranslate": {
   "displayLangs": [
    "*"
   ],
   "hotkey": "alt-t",
   "langInMainMenu": true,
   "sourceLang": "en",
   "targetLang": "fr",
   "useGoogleTranslate": true
  }
 },
 "nbformat": 4,
 "nbformat_minor": 4
}
