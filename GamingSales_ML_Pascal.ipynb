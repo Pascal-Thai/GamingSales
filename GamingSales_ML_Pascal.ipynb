{
 "cells": [
  {
   "cell_type": "code",
   "execution_count": 52,
   "id": "b1afb01c",
   "metadata": {},
   "outputs": [
    {
     "name": "stdout",
     "output_type": "stream",
     "text": [
      "Requirement already satisfied: category_encoders in /opt/anaconda3/lib/python3.8/site-packages (2.3.0)\n",
      "Requirement already satisfied: pandas>=0.21.1 in /opt/anaconda3/lib/python3.8/site-packages (from category_encoders) (1.2.4)\n",
      "Requirement already satisfied: scikit-learn>=0.20.0 in /opt/anaconda3/lib/python3.8/site-packages (from category_encoders) (0.24.1)\n",
      "Requirement already satisfied: patsy>=0.5.1 in /opt/anaconda3/lib/python3.8/site-packages (from category_encoders) (0.5.1)\n",
      "Requirement already satisfied: statsmodels>=0.9.0 in /opt/anaconda3/lib/python3.8/site-packages (from category_encoders) (0.12.2)\n",
      "Requirement already satisfied: scipy>=1.0.0 in /opt/anaconda3/lib/python3.8/site-packages (from category_encoders) (1.6.2)\n",
      "Requirement already satisfied: numpy>=1.14.0 in /opt/anaconda3/lib/python3.8/site-packages (from category_encoders) (1.20.1)\n",
      "Requirement already satisfied: python-dateutil>=2.7.3 in /opt/anaconda3/lib/python3.8/site-packages (from pandas>=0.21.1->category_encoders) (2.8.1)\n",
      "Requirement already satisfied: pytz>=2017.3 in /opt/anaconda3/lib/python3.8/site-packages (from pandas>=0.21.1->category_encoders) (2021.1)\n",
      "Requirement already satisfied: six in /opt/anaconda3/lib/python3.8/site-packages (from patsy>=0.5.1->category_encoders) (1.15.0)\n",
      "Requirement already satisfied: joblib>=0.11 in /opt/anaconda3/lib/python3.8/site-packages (from scikit-learn>=0.20.0->category_encoders) (1.0.1)\n",
      "Requirement already satisfied: threadpoolctl>=2.0.0 in /opt/anaconda3/lib/python3.8/site-packages (from scikit-learn>=0.20.0->category_encoders) (2.1.0)\n"
     ]
    }
   ],
   "source": [
    "# Importation des packaques et du dataset\n",
    "import pandas as pd\n",
    "import numpy as np\n",
    "import seaborn as sns\n",
    "import matplotlib.pyplot as plt\n",
    "import re\n",
    "from sklearn import preprocessing\n",
    "from sklearn.model_selection import train_test_split\n",
    "from sklearn.linear_model import LinearRegression, RidgeCV, Lasso, LogisticRegression,ElasticNetCV\n",
    "from sklearn.neighbors import KNeighborsClassifier\n",
    "from sklearn.tree import DecisionTreeClassifier\n",
    "from sklearn.metrics import mean_absolute_error\n",
    "\n",
    "!pip install category_encoders\n",
    "import category_encoders as ce\n",
    "ohe = ce.OneHotEncoder()\n",
    "oe = ce.OrdinalEncoder()\n",
    "\n",
    "# Importation du fichier de scraping\n",
    "df = pd.read_csv('vgsales.csv')\n",
    "\n",
    "# Recherche des données manquantes\n",
    "df.isnull().sum()\n",
    "\n",
    "# Remplacement des années manquantes par 0 (autres)\n",
    "df[['Year','metaNote','metaNbVote','userNote','userNbVote']] = df[['Year','metaNote','metaNbVote','userNote','userNbVote']].fillna(0)\n",
    "\n",
    "# Remplacement des Publishers manquants par unknown\n",
    "df['Publisher'] = df['Publisher'].fillna('unknown')\n",
    "\n",
    "# Retrait des outliers\n",
    "df.drop(['Rank','Name','gamename','serie','NA_Sales','EU_Sales','JP_Sales','Other_Sales','metaNoteQ','samename'],axis=1,inplace=True)\n",
    "df = df[df['Global_Sales']<13]\n",
    "\n",
    "# Conversion de variable categoriel \n",
    "\n",
    "#df2[\"Genre\"] = ohe.fit_transform(df2[\"Genre\"])\n",
    "#df2[\"Publisher\"] = ohe.fit_transform(df2[\"Publisher\"])\n",
    "#df2[\"Platform\"] = ohe.fit_transform(df2[\"Platform\"])\n",
    "df2 = ohe.fit_transform(df2)\n",
    "#df2[['Genre','Publisher','Platform']] = oe.fit_transform(df2[['Genre','Publisher','Platform']])\n",
    "\n",
    "#dum_pub = pd.get_dummies(df[[\"Genre\",\"Publisher\", \"Platform\"]],prefix='niveau')\n",
    "#fusion = pd.concat([df,dum_pub],axis=1)\n",
    "\n",
    "#df2 = df2.drop(['Genre','Publisher','Platform'],axis=1)"
   ]
  },
  {
   "cell_type": "code",
   "execution_count": 138,
   "id": "15f08ddc",
   "metadata": {},
   "outputs": [
    {
     "name": "stdout",
     "output_type": "stream",
     "text": [
      "count    11540.000000\n",
      "mean         6.220589\n",
      "std         17.150624\n",
      "min          0.100000\n",
      "25%          0.800000\n",
      "50%          2.100000\n",
      "75%          5.700000\n",
      "max        827.400000\n",
      "Name: Global_Sales, dtype: float64\n",
      "length 10267\n"
     ]
    },
    {
     "data": {
      "image/png": "[encoded data removed]",
      "text/plain": [
       "<Figure size 432x288 with 2 Axes>"
      ]
     },
     "metadata": {
      "needs_background": "light"
     },
     "output_type": "display_data"
    }
   ],
   "source": [
    "plt.subplot(1,2,1)\n",
    "plt.boxplot(df['Global_Sales']);\n",
    "plt.ylim([0,20]);\n",
    "print(df['Global_Sales'].describe())\n",
    "\n",
    "df2 = df[df['Global_Sales']<13]\n",
    "print(\"length\", len(df2))\n",
    "plt.subplot(1,2,2)\n",
    "plt.boxplot(df2['Global_Sales']);\n",
    "plt.ylim([0,20]);"
   ]
  },
  {
   "cell_type": "code",
   "execution_count": 53,
   "id": "2fb8a0ea",
   "metadata": {
    "scrolled": true
   },
   "outputs": [
    {
     "data": {
      "text/plain": [
       "31       12.73\n",
       "32       12.27\n",
       "33       12.21\n",
       "34       12.14\n",
       "35       11.98\n",
       "         ...  \n",
       "11535     0.01\n",
       "11536     0.01\n",
       "11537     0.01\n",
       "11538     0.01\n",
       "11539     0.01\n",
       "Name: Global_Sales, Length: 11509, dtype: float64"
      ]
     },
     "execution_count": 53,
     "metadata": {},
     "output_type": "execute_result"
    }
   ],
   "source": [
    "# preprocessing\n",
    "\n",
    "scaler = preprocessing.StandardScaler().fit_transform(df2)\n",
    "matrice=df.corr()\n",
    "#fig,ax=plt.subplots(figsize=(20,20))\n",
    "#sns.heatmap(matrice, annot=True, cmap='coolwarm');\n",
    "\n",
    "# définition de la target et data\n",
    "target = df2['Global_Sales']\n",
    "data = df2.drop(['Global_Sales'],axis=1)\n",
    "\n",
    "# séparation en jeu d'entrainement et de test\n",
    "\n",
    "X_train, X_test, y_train, y_test = train_test_split(data, target, test_size=0.2)\n",
    "scaler = preprocessing.StandardScaler()\n",
    "X_train_scaled = scaler.fit_transform(X_train)\n",
    "X_test_scaled = scaler.transform(X_test)\n",
    "\n",
    "target"
   ]
  },
  {
   "cell_type": "code",
   "execution_count": 54,
   "id": "2638d4dd",
   "metadata": {},
   "outputs": [
    {
     "name": "stdout",
     "output_type": "stream",
     "text": [
      "Train score : 0.2708234067001023\n",
      "Test score : -7.346865818451471e+23\n",
      "MAE :  117795339346902.22\n"
     ]
    }
   ],
   "source": [
    "# Test du modèle de regression linéaire\n",
    "\n",
    "clf = LinearRegression()\n",
    "clf.fit(X_train_scaled,y_train)\n",
    "print(\"Train score :\", clf.score(X_train_scaled,y_train))\n",
    "print(\"Test score :\",clf.score(X_test_scaled,y_test))\n",
    "\n",
    "y_pred = clf.predict(X_test)\n",
    "print(\"MAE : \",mean_absolute_error(y_test, y_pred))"
   ]
  },
  {
   "cell_type": "code",
   "execution_count": 55,
   "id": "2cd1da55",
   "metadata": {},
   "outputs": [
    {
     "name": "stdout",
     "output_type": "stream",
     "text": [
      "Train score : 0.27170843682727897\n",
      "Test score : 0.2218131241420681\n",
      "MAE :  43.878235850414725\n"
     ]
    }
   ],
   "source": [
    "# Test du modèle RidgeCV\n",
    "\n",
    "ridge_reg = RidgeCV(alphas= (0.001, 0.01, 0.1, 0.3, 0.7, 1, 10, 50, 100))\n",
    "ridge_reg.fit(X_train_scaled, y_train)\n",
    "print(\"Train score :\", ridge_reg.score(X_train_scaled,y_train))\n",
    "print(\"Test score :\",ridge_reg.score(X_test_scaled,y_test))\n",
    "\n",
    "y_pred = ridge_reg.predict(X_test)\n",
    "print(\"MAE : \",mean_absolute_error(y_test, y_pred))\n"
   ]
  },
  {
   "cell_type": "code",
   "execution_count": 56,
   "id": "42804c82",
   "metadata": {},
   "outputs": [
    {
     "name": "stdout",
     "output_type": "stream",
     "text": [
      "Train score : 0.2592245804142206\n",
      "Test score : 0.22017749780174667\n",
      "MAE :  32.52853058138427\n"
     ]
    }
   ],
   "source": [
    "# Test du modèle Lasso\n",
    "\n",
    "lasso_r = Lasso(alpha=0.01)\n",
    "lasso_r.fit(X_train_scaled,y_train)\n",
    "print(\"Train score :\", lasso_r.score(X_train_scaled,y_train))\n",
    "print(\"Test score :\",lasso_r.score(X_test_scaled,y_test))\n",
    "\n",
    "y_pred = lasso_r.predict(X_test)\n",
    "print(\"MAE : \",mean_absolute_error(y_test, y_pred))"
   ]
  },
  {
   "cell_type": "code",
   "execution_count": 57,
   "id": "52f0885f",
   "metadata": {},
   "outputs": [
    {
     "name": "stdout",
     "output_type": "stream",
     "text": [
      "Train score : -3.5811055615705323\n",
      "Test score : -3.374600974082174\n",
      "MAE :  0.48279781302554853\n"
     ]
    }
   ],
   "source": [
    "# d. Création d'un modèle de régression Elastic Net\n",
    "l1_ratio=(0.1, 0.25, 0.5, 0.7, 0.75, 0.8, 0.85, 0.9, 0.99) \n",
    "alphas=(0.001, 0.01, 0.02, 0.025, 0.05, 0.1, 0.25, 0.5, 0.8, 1.0)\n",
    "model_en=ElasticNetCV(l1_ratio=l1_ratio, alphas=alphas,cv=8)\n",
    "\n",
    "# e. Entrainement du modèle sur X_train et y_train\n",
    "model_en.fit(X_train,y_train)\n",
    "print(\"Train score :\", model_en.score(X_train_scaled,y_train))\n",
    "print(\"Test score :\",model_en.score(X_test_scaled,y_test))\n",
    "\n",
    "y_pred = model_en.predict(X_test)\n",
    "print(\"MAE : \",mean_absolute_error(y_test, y_pred))"
   ]
  },
  {
   "cell_type": "code",
   "execution_count": 60,
   "id": "06cdfa7e",
   "metadata": {},
   "outputs": [],
   "source": [
    "df3=df\n",
    "df3[[\"Genre\",\"Publisher\", \"Platform\"]] = oe.fit_transform(df[[\"Genre\",\"Publisher\",\"Platform\"]])\n",
    "target = (df3['Global_Sales']*100).astype('int')\n",
    "data = df3.drop(['Global_Sales'],axis=1)\n",
    "\n",
    "# séparation en jeu d'entrainement et de test\n",
    "X_train, X_test, y_train, y_test = train_test_split(data, target, test_size=0.2)\n",
    "\n",
    "# Scale\n",
    "scaler = preprocessing.StandardScaler()\n",
    "X_train_scaled = scaler.fit_transform(X_train)\n",
    "X_test_scaled = scaler.transform(X_test)"
   ]
  },
  {
   "cell_type": "code",
   "execution_count": 62,
   "id": "9af13075",
   "metadata": {},
   "outputs": [
    {
     "name": "stdout",
     "output_type": "stream",
     "text": [
      "Train score : 0.3633105246008472\n",
      "Test score : 0.04039965247610773\n",
      "MAE :  79.73457862728063\n"
     ]
    }
   ],
   "source": [
    "# Test modèle KNN\n",
    "\n",
    "knn = KNeighborsClassifier(n_neighbors=3, metric='minkowski')\n",
    "knn.fit(X_train_scaled,y_train)\n",
    "print(\"Train score :\", knn.score(X_train_scaled,y_train))\n",
    "print(\"Test score :\",knn.score(X_test_scaled,y_test))\n",
    "\n",
    "y_pred = knn.predict(X_test)\n",
    "print(\"MAE : \",mean_absolute_error(y_test, y_pred))"
   ]
  },
  {
   "cell_type": "code",
   "execution_count": 63,
   "id": "c1b4d11c",
   "metadata": {},
   "outputs": [
    {
     "name": "stdout",
     "output_type": "stream",
     "text": [
      "Train score : 0.053763440860215055\n",
      "Test score : 0.05690703735881842\n",
      "MAE :  61.19721980886186\n"
     ]
    },
    {
     "name": "stderr",
     "output_type": "stream",
     "text": [
      "/opt/anaconda3/lib/python3.8/site-packages/sklearn/linear_model/_logistic.py:763: ConvergenceWarning: lbfgs failed to converge (status=1):\n",
      "STOP: TOTAL NO. of ITERATIONS REACHED LIMIT.\n",
      "\n",
      "Increase the number of iterations (max_iter) or scale the data as shown in:\n",
      "    https://scikit-learn.org/stable/modules/preprocessing.html\n",
      "Please also refer to the documentation for alternative solver options:\n",
      "    https://scikit-learn.org/stable/modules/linear_model.html#logistic-regression\n",
      "  n_iter_i = _check_optimize_result(\n"
     ]
    }
   ],
   "source": [
    "# Test modèle Regression Logistic\n",
    "\n",
    "lr = LogisticRegression(C=1.0)\n",
    "lr.fit(X_train_scaled,y_train)\n",
    "print(\"Train score :\", lr.score(X_train_scaled,y_train))\n",
    "print(\"Test score :\",lr.score(X_test_scaled,y_test))\n",
    "\n",
    "y_pred = lr.predict(X_test)\n",
    "print(\"MAE : \",mean_absolute_error(y_test, y_pred))"
   ]
  },
  {
   "cell_type": "code",
   "execution_count": 64,
   "id": "92b48f04",
   "metadata": {},
   "outputs": [
    {
     "name": "stdout",
     "output_type": "stream",
     "text": [
      "Train score : 0.9846855653307266\n",
      "Test score : 0.03866203301476977\n",
      "MAE :  54.54257167680278\n"
     ]
    }
   ],
   "source": [
    "# test modèle random forest\n",
    "\n",
    "dt_clf = DecisionTreeClassifier()\n",
    "dt_clf.fit(X_train_scaled,y_train)\n",
    "print(\"Train score :\", dt_clf.score(X_train_scaled,y_train))\n",
    "print(\"Test score :\",dt_clf.score(X_test_scaled,y_test))\n",
    "\n",
    "y_pred = dt_clf.predict(X_test)\n",
    "print(\"MAE : \",mean_absolute_error(y_test, y_pred))"
   ]
  },
  {
   "cell_type": "code",
   "execution_count": 65,
   "id": "70628df9",
   "metadata": {},
   "outputs": [
    {
     "name": "stdout",
     "output_type": "stream",
     "text": [
      "Train score : 0.9846855653307266\n",
      "Test score : 0.03866203301476977\n",
      "MAE :  55.807124239791484\n"
     ]
    }
   ],
   "source": [
    "# test modèle random forest\n",
    "from sklearn.ensemble import RandomForestClassifier\n",
    "\n",
    "RF_clf = RandomForestClassifier()\n",
    "RF_clf.fit(X_train_scaled,y_train)\n",
    "print(\"Train score :\", dt_clf.score(X_train_scaled,y_train))\n",
    "print(\"Test score :\",dt_clf.score(X_test_scaled,y_test))\n",
    "\n",
    "y_pred = RF_clf.predict(X_test)\n",
    "print(\"MAE : \",mean_absolute_error(y_test, y_pred))"
   ]
  }
 ],
 "metadata": {
  "kernelspec": {
   "display_name": "Python 3",
   "language": "python",
   "name": "python3"
  },
  "language_info": {
   "codemirror_mode": {
    "name": "ipython",
    "version": 3
   },
   "file_extension": ".py",
   "mimetype": "text/x-python",
   "name": "python",
   "nbconvert_exporter": "python",
   "pygments_lexer": "ipython3",
   "version": "3.8.8"
  }
 },
 "nbformat": 4,
 "nbformat_minor": 5
}
