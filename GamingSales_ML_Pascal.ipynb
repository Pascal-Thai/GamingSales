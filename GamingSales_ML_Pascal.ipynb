{
 "cells": [
  {
   "cell_type": "code",
   "execution_count": 185,
   "id": "b1afb01c",
   "metadata": {},
   "outputs": [
    {
     "name": "stdout",
     "output_type": "stream",
     "text": [
      "Requirement already satisfied: category_encoders in /opt/anaconda3/lib/python3.8/site-packages (2.3.0)\n",
      "Requirement already satisfied: patsy>=0.5.1 in /opt/anaconda3/lib/python3.8/site-packages (from category_encoders) (0.5.1)\n",
      "Requirement already satisfied: scikit-learn>=0.20.0 in /opt/anaconda3/lib/python3.8/site-packages (from category_encoders) (0.24.1)\n",
      "Requirement already satisfied: scipy>=1.0.0 in /opt/anaconda3/lib/python3.8/site-packages (from category_encoders) (1.6.2)\n",
      "Requirement already satisfied: pandas>=0.21.1 in /opt/anaconda3/lib/python3.8/site-packages (from category_encoders) (1.2.4)\n",
      "Requirement already satisfied: statsmodels>=0.9.0 in /opt/anaconda3/lib/python3.8/site-packages (from category_encoders) (0.12.2)\n",
      "Requirement already satisfied: numpy>=1.14.0 in /opt/anaconda3/lib/python3.8/site-packages (from category_encoders) (1.20.1)\n",
      "Requirement already satisfied: python-dateutil>=2.7.3 in /opt/anaconda3/lib/python3.8/site-packages (from pandas>=0.21.1->category_encoders) (2.8.1)\n",
      "Requirement already satisfied: pytz>=2017.3 in /opt/anaconda3/lib/python3.8/site-packages (from pandas>=0.21.1->category_encoders) (2021.1)\n",
      "Requirement already satisfied: six in /opt/anaconda3/lib/python3.8/site-packages (from patsy>=0.5.1->category_encoders) (1.15.0)\n",
      "Requirement already satisfied: joblib>=0.11 in /opt/anaconda3/lib/python3.8/site-packages (from scikit-learn>=0.20.0->category_encoders) (1.0.1)\n",
      "Requirement already satisfied: threadpoolctl>=2.0.0 in /opt/anaconda3/lib/python3.8/site-packages (from scikit-learn>=0.20.0->category_encoders) (2.1.0)\n"
     ]
    },
    {
     "name": "stderr",
     "output_type": "stream",
     "text": [
      "/opt/anaconda3/lib/python3.8/site-packages/pandas/core/frame.py:3191: SettingWithCopyWarning: \n",
      "A value is trying to be set on a copy of a slice from a DataFrame.\n",
      "Try using .loc[row_indexer,col_indexer] = value instead\n",
      "\n",
      "See the caveats in the documentation: https://pandas.pydata.org/pandas-docs/stable/user_guide/indexing.html#returning-a-view-versus-a-copy\n",
      "  self[k1] = value[k2]\n"
     ]
    },
    {
     "data": {
      "text/html": [
       "<div>\n",
       "<style scoped>\n",
       "    .dataframe tbody tr th:only-of-type {\n",
       "        vertical-align: middle;\n",
       "    }\n",
       "\n",
       "    .dataframe tbody tr th {\n",
       "        vertical-align: top;\n",
       "    }\n",
       "\n",
       "    .dataframe thead th {\n",
       "        text-align: right;\n",
       "    }\n",
       "</style>\n",
       "<table border=\"1\" class=\"dataframe\">\n",
       "  <thead>\n",
       "    <tr style=\"text-align: right;\">\n",
       "      <th></th>\n",
       "      <th>Rank</th>\n",
       "      <th>Platform</th>\n",
       "      <th>Year</th>\n",
       "      <th>Genre</th>\n",
       "      <th>Publisher</th>\n",
       "      <th>Global_Sales</th>\n",
       "      <th>metaNote</th>\n",
       "      <th>metaNbVote</th>\n",
       "      <th>userNote</th>\n",
       "      <th>userNbVote</th>\n",
       "      <th>samename</th>\n",
       "      <th>metaNoteQ</th>\n",
       "      <th>serieB</th>\n",
       "    </tr>\n",
       "  </thead>\n",
       "  <tbody>\n",
       "    <tr>\n",
       "      <th>31</th>\n",
       "      <td>41</td>\n",
       "      <td>1</td>\n",
       "      <td>2010.0</td>\n",
       "      <td>1</td>\n",
       "      <td>1</td>\n",
       "      <td>12.73</td>\n",
       "      <td>76.0</td>\n",
       "      <td>35.0</td>\n",
       "      <td>3.4</td>\n",
       "      <td>1216.0</td>\n",
       "      <td>1</td>\n",
       "      <td>4</td>\n",
       "      <td>1</td>\n",
       "    </tr>\n",
       "    <tr>\n",
       "      <th>32</th>\n",
       "      <td>42</td>\n",
       "      <td>2</td>\n",
       "      <td>2005.0</td>\n",
       "      <td>2</td>\n",
       "      <td>2</td>\n",
       "      <td>12.27</td>\n",
       "      <td>86.0</td>\n",
       "      <td>57.0</td>\n",
       "      <td>8.5</td>\n",
       "      <td>309.0</td>\n",
       "      <td>1</td>\n",
       "      <td>4</td>\n",
       "      <td>0</td>\n",
       "    </tr>\n",
       "    <tr>\n",
       "      <th>33</th>\n",
       "      <td>43</td>\n",
       "      <td>3</td>\n",
       "      <td>2011.0</td>\n",
       "      <td>3</td>\n",
       "      <td>2</td>\n",
       "      <td>12.21</td>\n",
       "      <td>85.0</td>\n",
       "      <td>73.0</td>\n",
       "      <td>8.2</td>\n",
       "      <td>861.0</td>\n",
       "      <td>1</td>\n",
       "      <td>4</td>\n",
       "      <td>1</td>\n",
       "    </tr>\n",
       "    <tr>\n",
       "      <th>34</th>\n",
       "      <td>44</td>\n",
       "      <td>4</td>\n",
       "      <td>2007.0</td>\n",
       "      <td>1</td>\n",
       "      <td>3</td>\n",
       "      <td>12.14</td>\n",
       "      <td>94.0</td>\n",
       "      <td>86.0</td>\n",
       "      <td>8.1</td>\n",
       "      <td>5141.0</td>\n",
       "      <td>1</td>\n",
       "      <td>4</td>\n",
       "      <td>0</td>\n",
       "    </tr>\n",
       "    <tr>\n",
       "      <th>35</th>\n",
       "      <td>45</td>\n",
       "      <td>5</td>\n",
       "      <td>2014.0</td>\n",
       "      <td>4</td>\n",
       "      <td>4</td>\n",
       "      <td>11.98</td>\n",
       "      <td>97.0</td>\n",
       "      <td>66.0</td>\n",
       "      <td>8.4</td>\n",
       "      <td>6662.0</td>\n",
       "      <td>1</td>\n",
       "      <td>4</td>\n",
       "      <td>0</td>\n",
       "    </tr>\n",
       "    <tr>\n",
       "      <th>...</th>\n",
       "      <td>...</td>\n",
       "      <td>...</td>\n",
       "      <td>...</td>\n",
       "      <td>...</td>\n",
       "      <td>...</td>\n",
       "      <td>...</td>\n",
       "      <td>...</td>\n",
       "      <td>...</td>\n",
       "      <td>...</td>\n",
       "      <td>...</td>\n",
       "      <td>...</td>\n",
       "      <td>...</td>\n",
       "      <td>...</td>\n",
       "    </tr>\n",
       "    <tr>\n",
       "      <th>11535</th>\n",
       "      <td>16594</td>\n",
       "      <td>12</td>\n",
       "      <td>2004.0</td>\n",
       "      <td>11</td>\n",
       "      <td>6</td>\n",
       "      <td>0.01</td>\n",
       "      <td>82.0</td>\n",
       "      <td>36.0</td>\n",
       "      <td>0.0</td>\n",
       "      <td>0.0</td>\n",
       "      <td>1</td>\n",
       "      <td>4</td>\n",
       "      <td>1</td>\n",
       "    </tr>\n",
       "    <tr>\n",
       "      <th>11536</th>\n",
       "      <td>16595</td>\n",
       "      <td>2</td>\n",
       "      <td>2008.0</td>\n",
       "      <td>2</td>\n",
       "      <td>134</td>\n",
       "      <td>0.01</td>\n",
       "      <td>1.0</td>\n",
       "      <td>3.0</td>\n",
       "      <td>0.0</td>\n",
       "      <td>0.0</td>\n",
       "      <td>1</td>\n",
       "      <td>1</td>\n",
       "      <td>0</td>\n",
       "    </tr>\n",
       "    <tr>\n",
       "      <th>11537</th>\n",
       "      <td>16597</td>\n",
       "      <td>16</td>\n",
       "      <td>2003.0</td>\n",
       "      <td>1</td>\n",
       "      <td>47</td>\n",
       "      <td>0.01</td>\n",
       "      <td>50.0</td>\n",
       "      <td>19.0</td>\n",
       "      <td>0.0</td>\n",
       "      <td>0.0</td>\n",
       "      <td>1</td>\n",
       "      <td>3</td>\n",
       "      <td>0</td>\n",
       "    </tr>\n",
       "    <tr>\n",
       "      <th>11538</th>\n",
       "      <td>16598</td>\n",
       "      <td>7</td>\n",
       "      <td>2008.0</td>\n",
       "      <td>3</td>\n",
       "      <td>1</td>\n",
       "      <td>0.01</td>\n",
       "      <td>29.0</td>\n",
       "      <td>4.0</td>\n",
       "      <td>0.0</td>\n",
       "      <td>0.0</td>\n",
       "      <td>1</td>\n",
       "      <td>2</td>\n",
       "      <td>0</td>\n",
       "    </tr>\n",
       "    <tr>\n",
       "      <th>11539</th>\n",
       "      <td>16600</td>\n",
       "      <td>19</td>\n",
       "      <td>2003.0</td>\n",
       "      <td>5</td>\n",
       "      <td>147</td>\n",
       "      <td>0.01</td>\n",
       "      <td>50.0</td>\n",
       "      <td>10.0</td>\n",
       "      <td>0.0</td>\n",
       "      <td>0.0</td>\n",
       "      <td>1</td>\n",
       "      <td>3</td>\n",
       "      <td>0</td>\n",
       "    </tr>\n",
       "  </tbody>\n",
       "</table>\n",
       "<p>11509 rows × 13 columns</p>\n",
       "</div>"
      ],
      "text/plain": [
       "        Rank  Platform    Year  Genre  Publisher  Global_Sales  metaNote  \\\n",
       "31        41         1  2010.0      1          1         12.73      76.0   \n",
       "32        42         2  2005.0      2          2         12.27      86.0   \n",
       "33        43         3  2011.0      3          2         12.21      85.0   \n",
       "34        44         4  2007.0      1          3         12.14      94.0   \n",
       "35        45         5  2014.0      4          4         11.98      97.0   \n",
       "...      ...       ...     ...    ...        ...           ...       ...   \n",
       "11535  16594        12  2004.0     11          6          0.01      82.0   \n",
       "11536  16595         2  2008.0      2        134          0.01       1.0   \n",
       "11537  16597        16  2003.0      1         47          0.01      50.0   \n",
       "11538  16598         7  2008.0      3          1          0.01      29.0   \n",
       "11539  16600        19  2003.0      5        147          0.01      50.0   \n",
       "\n",
       "       metaNbVote  userNote  userNbVote  samename  metaNoteQ  serieB  \n",
       "31           35.0       3.4      1216.0         1          4       1  \n",
       "32           57.0       8.5       309.0         1          4       0  \n",
       "33           73.0       8.2       861.0         1          4       1  \n",
       "34           86.0       8.1      5141.0         1          4       0  \n",
       "35           66.0       8.4      6662.0         1          4       0  \n",
       "...           ...       ...         ...       ...        ...     ...  \n",
       "11535        36.0       0.0         0.0         1          4       1  \n",
       "11536         3.0       0.0         0.0         1          1       0  \n",
       "11537        19.0       0.0         0.0         1          3       0  \n",
       "11538         4.0       0.0         0.0         1          2       0  \n",
       "11539        10.0       0.0         0.0         1          3       0  \n",
       "\n",
       "[11509 rows x 13 columns]"
      ]
     },
     "execution_count": 185,
     "metadata": {},
     "output_type": "execute_result"
    }
   ],
   "source": [
    "# Importation des packaques et du dataset\n",
    "import pandas as pd\n",
    "import numpy as np\n",
    "import seaborn as sns\n",
    "import matplotlib.pyplot as plt\n",
    "import re\n",
    "from sklearn import preprocessing\n",
    "from sklearn.model_selection import train_test_split\n",
    "from sklearn.linear_model import LinearRegression, RidgeCV, Lasso, LogisticRegression\n",
    "from sklearn.neighbors import KNeighborsClassifier\n",
    "from sklearn.tree import DecisionTreeClassifier\n",
    "\n",
    "!pip install category_encoders\n",
    "import category_encoders as ce\n",
    "\n",
    "# Importation du fichier de scraping\n",
    "df = pd.read_csv('vgsales.csv')\n",
    "\n",
    "# Recherche des données manquantes\n",
    "df.isnull().sum()\n",
    "\n",
    "# Remplacement des années manquantes par 0 (autres)\n",
    "df[['Year','metaNote','metaNbVote','userNote','userNbVote']] = df[['Year','metaNote','metaNbVote','userNote','userNbVote']].fillna(0)\n",
    "\n",
    "# Remplacement des Publishers manquants par unknown\n",
    "df['Publisher'] = df['Publisher'].fillna('unknown')\n",
    "\n",
    "# Conversion de variable categoriel \n",
    "oe = ce.OrdinalEncoder()\n",
    "df2[[\"Genre\",\"Publisher\", \"Platform\"]] = oe.fit_transform(df2[[\"Genre\",\"Publisher\",\"Platform\"]])\n",
    "\n",
    "# Retrait des outliers\n",
    "df3 = df2[df2['Global_Sales']<13]\n",
    "df3.drop(['Name','gamename','serie','NA_Sales','EU_Sales','JP_Sales','Other_Sales'],axis=1,inplace=True)\n",
    "df3"
   ]
  },
  {
   "cell_type": "code",
   "execution_count": 138,
   "id": "15f08ddc",
   "metadata": {},
   "outputs": [
    {
     "name": "stdout",
     "output_type": "stream",
     "text": [
      "count    11540.000000\n",
      "mean         6.220589\n",
      "std         17.150624\n",
      "min          0.100000\n",
      "25%          0.800000\n",
      "50%          2.100000\n",
      "75%          5.700000\n",
      "max        827.400000\n",
      "Name: Global_Sales, dtype: float64\n",
      "length 10267\n"
     ]
    },
    {
     "data": {
      "image/png": "[encoded data removed]",
      "text/plain": [
       "<Figure size 432x288 with 2 Axes>"
      ]
     },
     "metadata": {
      "needs_background": "light"
     },
     "output_type": "display_data"
    }
   ],
   "source": [
    "plt.subplot(1,2,1)\n",
    "plt.boxplot(df['Global_Sales']);\n",
    "plt.ylim([0,20]);\n",
    "print(df['Global_Sales'].describe())\n",
    "\n",
    "df2 = df[df['Global_Sales']<13]\n",
    "print(\"length\", len(df2))\n",
    "plt.subplot(1,2,2)\n",
    "plt.boxplot(df2['Global_Sales']);\n",
    "plt.ylim([0,20]);"
   ]
  },
  {
   "cell_type": "code",
   "execution_count": 186,
   "id": "2fb8a0ea",
   "metadata": {
    "scrolled": true
   },
   "outputs": [],
   "source": [
    "# preprocessing\n",
    "\n",
    "scaler = preprocessing.StandardScaler().fit_transform(df3)\n",
    "matrice=df.corr()\n",
    "#fig,ax=plt.subplots(figsize=(20,20))\n",
    "#sns.heatmap(matrice, annot=True, cmap='coolwarm');\n",
    "\n",
    "# définition de la target et data\n",
    "target = df3['Global_Sales']\n",
    "data = df3.drop(['Global_Sales'],axis=1)\n",
    "\n",
    "# séparation en jeu d'entrainement et de test\n",
    "\n",
    "X_train, X_test, y_train, y_test = train_test_split(data, target, test_size=0.2)\n",
    "scaler = preprocessing.StandardScaler()\n",
    "X_train_scaled = scaler.fit_transform(X_train)\n",
    "X_test_scaled = scaler.transform(X_test)"
   ]
  },
  {
   "cell_type": "code",
   "execution_count": 187,
   "id": "2638d4dd",
   "metadata": {},
   "outputs": [
    {
     "name": "stdout",
     "output_type": "stream",
     "text": [
      "Train score : 0.3933299299710189\n",
      "Test score : 0.38014768831319135\n"
     ]
    }
   ],
   "source": [
    "# Test du modèle de regression linéaire\n",
    "\n",
    "clf = LinearRegression()\n",
    "clf.fit(X_train_scaled,y_train)\n",
    "print(\"Train score :\", clf.score(X_train_scaled,y_train))\n",
    "\n",
    "print(\"Test score :\",clf.score(X_test_scaled,y_test))"
   ]
  },
  {
   "cell_type": "code",
   "execution_count": 188,
   "id": "2cd1da55",
   "metadata": {},
   "outputs": [
    {
     "name": "stdout",
     "output_type": "stream",
     "text": [
      "Train score : 0.3932616214106539\n",
      "Test score : 0.3797382844260817\n"
     ]
    }
   ],
   "source": [
    "# Test du modèle RidgeCV\n",
    "\n",
    "ridge_reg = RidgeCV(alphas= (0.001, 0.01, 0.1, 0.3, 0.7, 1, 10, 50, 100))\n",
    "ridge_reg.fit(X_train_scaled, y_train)\n",
    "print(\"Train score :\", ridge_reg.score(X_train_scaled,y_train))\n",
    "\n",
    "print(\"Test score :\",ridge_reg.score(X_test_scaled,y_test))"
   ]
  },
  {
   "cell_type": "code",
   "execution_count": 189,
   "id": "42804c82",
   "metadata": {},
   "outputs": [
    {
     "name": "stdout",
     "output_type": "stream",
     "text": [
      "Train score : 0.0\n",
      "Test score : 0.0\n"
     ]
    }
   ],
   "source": [
    "# Test du modèle Lasso\n",
    "\n",
    "lasso_r = Lasso(alpha=1)\n",
    "lasso_r.fit(X_train_scaled,y_train)\n",
    "print(\"Train score :\", lasso_r.score(X_train_scaled,y_train))\n",
    "\n",
    "lasso_r.fit(X_test_scaled,y_test)\n",
    "print(\"Test score :\",lasso_r.score(X_test_scaled,y_test))"
   ]
  },
  {
   "cell_type": "code",
   "execution_count": 190,
   "id": "06cdfa7e",
   "metadata": {},
   "outputs": [],
   "source": [
    "target = (df3['Global_Sales']*10).astype('int')\n",
    "\n",
    "# séparation en jeu d'entrainement et de test\n",
    "X_train, X_test, y_train, y_test = train_test_split(data, target, test_size=0.2)\n",
    "\n",
    "# Scale\n",
    "scaler = preprocessing.StandardScaler()\n",
    "X_train_scaled = scaler.fit_transform(X_train)\n",
    "X_test_scaled = scaler.transform(X_test)"
   ]
  },
  {
   "cell_type": "code",
   "execution_count": 191,
   "id": "9af13075",
   "metadata": {},
   "outputs": [
    {
     "name": "stdout",
     "output_type": "stream",
     "text": [
      "Train score : 0.7021831215379603\n",
      "Test score : 0.4895742832319722\n"
     ]
    }
   ],
   "source": [
    "# Test modèle KNN\n",
    "\n",
    "knn = KNeighborsClassifier(n_neighbors=3, metric='minkowski')\n",
    "knn.fit(X_train_scaled,y_train)\n",
    "print(\"Train score :\", knn.score(X_train_scaled,y_train))\n",
    "print(\"Test score :\",knn.score(X_test_scaled,y_test))"
   ]
  },
  {
   "cell_type": "code",
   "execution_count": 192,
   "id": "c1b4d11c",
   "metadata": {},
   "outputs": [
    {
     "name": "stdout",
     "output_type": "stream",
     "text": [
      "Train score : 0.6964266319105029\n",
      "Test score : 0.6785403996524761\n"
     ]
    },
    {
     "name": "stderr",
     "output_type": "stream",
     "text": [
      "/opt/anaconda3/lib/python3.8/site-packages/sklearn/linear_model/_logistic.py:763: ConvergenceWarning: lbfgs failed to converge (status=1):\n",
      "STOP: TOTAL NO. of ITERATIONS REACHED LIMIT.\n",
      "\n",
      "Increase the number of iterations (max_iter) or scale the data as shown in:\n",
      "    https://scikit-learn.org/stable/modules/preprocessing.html\n",
      "Please also refer to the documentation for alternative solver options:\n",
      "    https://scikit-learn.org/stable/modules/linear_model.html#logistic-regression\n",
      "  n_iter_i = _check_optimize_result(\n"
     ]
    }
   ],
   "source": [
    "# Test modèle Regression Logistic\n",
    "\n",
    "lr = LogisticRegression(C=1.0)\n",
    "lr.fit(X_train_scaled,y_train)\n",
    "print(\"Train score :\", lr.score(X_train_scaled,y_train))\n",
    "print(\"Test score :\",lr.score(X_test_scaled,y_test))"
   ]
  },
  {
   "cell_type": "code",
   "execution_count": 197,
   "id": "92b48f04",
   "metadata": {},
   "outputs": [
    {
     "name": "stdout",
     "output_type": "stream",
     "text": [
      "Train score : 1.0\n",
      "Test score : 0.9904430929626412\n"
     ]
    }
   ],
   "source": [
    "# test modèle random forest\n",
    "\n",
    "dt_clf = DecisionTreeClassifier()\n",
    "dt_clf.fit(X_train_scaled,y_train)\n",
    "print(\"Train score :\", dt_clf.score(X_train_scaled,y_train))\n",
    "print(\"Test score :\",dt_clf.score(X_test_scaled,y_test))"
   ]
  },
  {
   "cell_type": "code",
   "execution_count": null,
   "id": "d4134f75",
   "metadata": {},
   "outputs": [],
   "source": [
    "\n"
   ]
  }
 ],
 "metadata": {
  "kernelspec": {
   "display_name": "Python 3",
   "language": "python",
   "name": "python3"
  },
  "language_info": {
   "codemirror_mode": {
    "name": "ipython",
    "version": 3
   },
   "file_extension": ".py",
   "mimetype": "text/x-python",
   "name": "python",
   "nbconvert_exporter": "python",
   "pygments_lexer": "ipython3",
   "version": "3.8.8"
  }
 },
 "nbformat": 4,
 "nbformat_minor": 5
}
