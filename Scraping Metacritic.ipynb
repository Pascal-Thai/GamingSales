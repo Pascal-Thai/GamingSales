{
 "cells": [
  {
   "cell_type": "code",
   "execution_count": 1,
   "metadata": {},
   "outputs": [],
   "source": [
    "# Import des librairies nécessaires \n",
    "import pandas as pd\n",
    "import numpy as np\n",
    "import time\n",
    "import re\n",
    "%matplotlib inline\n",
    "from tqdm import tqdm\n",
    "from urllib.request import urlopen,Request\n",
    "from bs4 import BeautifulSoup\n",
    "from googlesearch import search\n"
   ]
  },
  {
   "cell_type": "code",
   "execution_count": 2,
   "metadata": {},
   "outputs": [
    {
     "name": "stdout",
     "output_type": "stream",
     "text": [
      "Requirement already satisfied: nordvpn-switcher in c:\\users\\laurent\\anaconda3\\lib\\site-packages (0.2.7)\n",
      "Requirement already satisfied: random-user-agent in c:\\users\\laurent\\anaconda3\\lib\\site-packages (from nordvpn-switcher) (1.0.1)\n",
      "Requirement already satisfied: lxml in c:\\users\\laurent\\anaconda3\\lib\\site-packages (from nordvpn-switcher) (4.6.3)\n",
      "Requirement already satisfied: requests in c:\\users\\laurent\\anaconda3\\lib\\site-packages (from nordvpn-switcher) (2.25.1)\n",
      "Requirement already satisfied: bs4 in c:\\users\\laurent\\anaconda3\\lib\\site-packages (from nordvpn-switcher) (0.0.1)\n",
      "Requirement already satisfied: psutil in c:\\users\\laurent\\anaconda3\\lib\\site-packages (from nordvpn-switcher) (5.8.0)\n",
      "Requirement already satisfied: pathlib in c:\\users\\laurent\\anaconda3\\lib\\site-packages (from nordvpn-switcher) (1.0.1)\n",
      "Requirement already satisfied: beautifulsoup4 in c:\\users\\laurent\\anaconda3\\lib\\site-packages (from bs4->nordvpn-switcher) (4.9.3)\n",
      "Requirement already satisfied: soupsieve>1.2 in c:\\users\\laurent\\anaconda3\\lib\\site-packages (from beautifulsoup4->bs4->nordvpn-switcher) (2.2.1)\n",
      "Requirement already satisfied: certifi>=2017.4.17 in c:\\users\\laurent\\anaconda3\\lib\\site-packages (from requests->nordvpn-switcher) (2020.12.5)\n",
      "Requirement already satisfied: idna<3,>=2.5 in c:\\users\\laurent\\anaconda3\\lib\\site-packages (from requests->nordvpn-switcher) (2.10)\n",
      "Requirement already satisfied: urllib3<1.27,>=1.21.1 in c:\\users\\laurent\\anaconda3\\lib\\site-packages (from requests->nordvpn-switcher) (1.26.4)\n",
      "Requirement already satisfied: chardet<5,>=3.0.2 in c:\\users\\laurent\\anaconda3\\lib\\site-packages (from requests->nordvpn-switcher) (4.0.0)\n",
      "\u001b[33mYou're using Windows.\n",
      "Performing system check...\n",
      "###########################\n",
      "\u001b[0m\n",
      "NordVPN installation check: \u001b[92m✓\u001b[0m\n",
      "NordVPN service check: \u001b[92m✓\u001b[0m\n",
      "Opening NordVPN app and disconnecting if necessary...\n",
      "NordVPN app launched: \u001b[92m✓\u001b[0m\n",
      "#####################################\n",
      "\n",
      "You've entered a list of connection options. Checking list...\n",
      "\n",
      "\n",
      "Done!\n",
      "\n"
     ]
    }
   ],
   "source": [
    "# Installation et import des outils NordVpn permettant de tourner sur plusieurs serveurs VPN\n",
    "# Choix de la localisation des serveurs : France et Belgique\n",
    "!pip install nordvpn-switcher\n",
    "from nordvpn_switcher import initialize_VPN,rotate_VPN,terminate_VPN\n",
    "settings=initialize_VPN(area_input=['France','Belgium'])"
   ]
  },
  {
   "cell_type": "code",
   "execution_count": 3,
   "metadata": {},
   "outputs": [],
   "source": [
    "#Lecture fichier et initialisation colonne top (indicateur de traitement)\n",
    "df = pd.read_csv(r\"vgsales.csv\")\n",
    "df['top']=''''"
   ]
  },
  {
   "cell_type": "code",
   "execution_count": 6,
   "metadata": {},
   "outputs": [],
   "source": [
    "# Fonction de lecture par balise classe via Beautiful soup\n",
    "def lec_class_soup(classe,soup):\n",
    "    result='not found'\n",
    "    x= soup.select(classe)\n",
    "    for n in x:\n",
    "        result=n.text\n",
    "    return(result)"
   ]
  },
  {
   "cell_type": "code",
   "execution_count": 7,
   "metadata": {},
   "outputs": [],
   "source": [
    "#Fonction de lecture du fichier initial, scraping de métacritic\n",
    "# et ajout des colonnes :\n",
    "#metascorewrap : metascore (score + nb critiques) issus de metacritic, basé sur une synthèse des critiques\n",
    "#sur les différents sites de jeux vidéo\n",
    "#userscorewrap : note des utilisateurs et nombre de votes associés\n",
    "#gamename : nom du jeu pour vérification de concordance\n",
    "#developper : studio de développement\n",
    "\n",
    "def scrape_and_fill(df):\n",
    "    starting_index = df[df['top'] == \"\"].index[0]\n",
    "    roll=1 # roll=1, on change de serveur VPN à chaque appel de la fonction\n",
    "    #Lecture du dataset en débutant à la premiere ligne non traitée\n",
    "    for i, row in tqdm(df.loc[starting_index:].iterrows(), total = len(df) - starting_index):\n",
    "            #Changement de serveur VPN toutes les 20 lignes ou en cas d'erreur html\n",
    "            if (((i%20)==0) or (roll==1)):\n",
    "                rotate_VPN(settings,google_check=1)\n",
    "                fichier='vgsales2_'+str(i)+'.csv' #fichier intermédiaire de sauvegarde\n",
    "                df.to_csv(fichier, index = False)\n",
    "                roll=0\n",
    "            time.sleep(np.random.randint(2, 10)) #temprisation aléatoire pour simuler utilisation humaine\n",
    "            try: # lecture site metacritic\n",
    "                for url in search('metacritic.com/game '+row['Name'], tld='com', start=0, stop=1, pause=2.0):\n",
    "                  if ('metacritic' in url):  # Vérification du site\n",
    "                    req = Request(url,headers={'User-Agent': 'Chrome/94.0.4606.71'})\n",
    "                    page_criti = urlopen(req).read()\n",
    "                    soup = BeautifulSoup(page_criti, 'html.parser')\n",
    "                    #initialisation données\n",
    "                    df.loc[i, 'metascorewrap'] = lec_class_soup('.metascore_wrap',soup)\n",
    "                    df.loc[i, 'userscorewrap'] = lec_class_soup('.userscore_wrap',soup)\n",
    "                    df.loc[i, 'gamename'] = lec_class_soup('h1',soup)\n",
    "                    df.loc[i, 'top'] = 1                                                           \n",
    "                    developper='not found'\n",
    "                    x=soup.findAll(name = 'a', attrs = {'class':'button'})\n",
    "                    for n in x:\n",
    "                        developper=n.text\n",
    "                    df.loc[i, 'developper'] = developper\n",
    "                  else: #Données non trouvées\n",
    "                     df.loc[i, 'metascorewrap'] = df.loc[i, 'userscorewrap'] =  'not found'\n",
    "                     df.loc[i, 'gamename'] = df.loc[i, 'developper'] = 'not found'                                                           \n",
    "                     df.loc[i, 'top'] = 1\n",
    "                    \n",
    "            except(RuntimeError, TypeError, NameError):\n",
    "                fichier='vgsales2_'+str(i)+'.csv' #fichier intermédiaire de sauvegarde\n",
    "                df.to_csv(fichier, index = False)\n",
    "                scrape_and_fill(df) # Si erreur à l'exécution ,rappel récursif de la fonction au dernier point traité\n",
    "            except:\n",
    "                fichier='vgsales2_'+str(i)+'.csv'\n",
    "                df.to_csv(fichier, index = False) #fichier intermédiaire de sauvegarde\n",
    "                scrape_and_fill(df) # Si erreur à l'exécution ,rappel récursif de la fonction au dernier point traité\n",
    "    df.to_csv(\"vgsales2_new.csv\", index = False)\n",
    "    return df\n"
   ]
  },
  {
   "cell_type": "code",
   "execution_count": null,
   "metadata": {},
   "outputs": [],
   "source": [
    "scrape_and_fill(df)"
   ]
  }
 ],
 "metadata": {
  "hide_input": false,
  "kernelspec": {
   "display_name": "Python 3",
   "language": "python",
   "name": "python3"
  },
  "language_info": {
   "codemirror_mode": {
    "name": "ipython",
    "version": 3
   },
   "file_extension": ".py",
   "mimetype": "text/x-python",
   "name": "python",
   "nbconvert_exporter": "python",
   "pygments_lexer": "ipython3",
   "version": "3.8.8"
  },
  "nbTranslate": {
   "displayLangs": [
    "*"
   ],
   "hotkey": "alt-t",
   "langInMainMenu": true,
   "sourceLang": "en",
   "targetLang": "fr",
   "useGoogleTranslate": true
  }
 },
 "nbformat": 4,
 "nbformat_minor": 4
}
