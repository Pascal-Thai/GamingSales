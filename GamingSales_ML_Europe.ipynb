{
 "cells": [
  {
   "cell_type": "code",
   "execution_count": 1,
   "id": "68580903",
   "metadata": {},
   "outputs": [],
   "source": [
    "# Importation des packaques\n",
    "import pandas as pd\n",
    "import numpy as np\n",
    "import seaborn as sns\n",
    "import matplotlib.pyplot as plt\n",
    "from sklearn import linear_model\n",
    "from sklearn import preprocessing\n",
    "from sklearn.model_selection import train_test_split\n",
    "from sklearn import linear_model\n",
    "from sklearn import preprocessing\n",
    "from math import ceil,floor\n",
    "from sklearn import linear_model\n",
    "from sklearn import preprocessing\n",
    "from sklearn.model_selection import train_test_split,GridSearchCV\n",
    "from sklearn.linear_model import RidgeCV,ElasticNetCV,Lasso,LassoCV\n",
    "from sklearn.linear_model import LinearRegression,LogisticRegression\n",
    "from sklearn.feature_selection import SelectFromModel\n",
    "import pandas as pd\n",
    "import numpy as np\n",
    "from sklearn.metrics import mean_absolute_error as mae\n",
    "\n",
    "from sklearn.model_selection import train_test_split\n",
    "from sklearn.metrics import f1_score\n",
    "from sklearn import svm\n",
    "from sklearn import model_selection\n",
    "import re"
   ]
  },
  {
   "cell_type": "code",
   "execution_count": 2,
   "id": "a840c3ca",
   "metadata": {
    "scrolled": false
   },
   "outputs": [],
   "source": [
    "# Importation du fichier de scraping\n",
    "df = pd.read_csv('vgsales.csv')\n",
    "df=df.fillna(0)"
   ]
  },
  {
   "cell_type": "code",
   "execution_count": 3,
   "id": "61bde003",
   "metadata": {
    "scrolled": false
   },
   "outputs": [
    {
     "data": {
      "image/png": "[encoded data removed]",
      "text/plain": [
       "<Figure size 1080x1080 with 1 Axes>"
      ]
     },
     "metadata": {
      "needs_background": "light"
     },
     "output_type": "display_data"
    }
   ],
   "source": [
    "df.boxplot(column=['NA_Sales','EU_Sales','JP_Sales','Other_Sales'],figsize= (15,15));"
   ]
  },
  {
   "cell_type": "code",
   "execution_count": 4,
   "id": "cd99c73e",
   "metadata": {},
   "outputs": [],
   "source": [
    "# Suppression des outliers\n",
    "df.drop(df.loc[df['NA_Sales']>6].index, inplace=True)\n",
    "df.drop(df.loc[df['JP_Sales']>3].index, inplace=True)\n",
    "df.drop(df.loc[df['EU_Sales']>4].index, inplace=True)\n",
    "df.drop(df.loc[df['EU_Sales']==0].index, inplace=True)\n",
    "df.drop(df.loc[df['Other_Sales']>2].index, inplace=True)\n"
   ]
  },
  {
   "cell_type": "code",
   "execution_count": 5,
   "id": "d9f9c49d",
   "metadata": {},
   "outputs": [],
   "source": [
    "#Suppression des lignes ou l'ensemble des ventes hors Japon sont à 0\n",
    "indexNames = df[((df['NA_Sales']==0) & (df['EU_Sales']==0) & (df['Other_Sales']==0))].index\n",
    "df.drop(indexNames , inplace=True)\n"
   ]
  },
  {
   "cell_type": "code",
   "execution_count": 6,
   "id": "ecb51564",
   "metadata": {},
   "outputs": [],
   "source": [
    "# Création d'un indicateur donnant un poids numérique à la série\n",
    "tabserie=pd.DataFrame(df.groupby('serie')['serie'].count())\n",
    "def categorize_serie(df):\n",
    "    if(df['serie']==0):\n",
    "        return 0\n",
    "    else:\n",
    "        return tabserie['serie'][df['serie']]\n",
    "df['serie']=df['serie'].fillna(0)\n",
    "df['SerieWeight']=df.apply(categorize_serie,axis=1)"
   ]
  },
  {
   "cell_type": "code",
   "execution_count": 7,
   "id": "3906b517",
   "metadata": {},
   "outputs": [],
   "source": [
    "df.drop(['Rank','serie','Name','gamename','samename','metaNoteQ','Global_Sales','JP_Sales'], axis=1, inplace=True)"
   ]
  },
  {
   "cell_type": "code",
   "execution_count": 31,
   "id": "b643f766",
   "metadata": {},
   "outputs": [
    {
     "data": {
      "text/html": [
       "<div>\n",
       "<style scoped>\n",
       "    .dataframe tbody tr th:only-of-type {\n",
       "        vertical-align: middle;\n",
       "    }\n",
       "\n",
       "    .dataframe tbody tr th {\n",
       "        vertical-align: top;\n",
       "    }\n",
       "\n",
       "    .dataframe thead th {\n",
       "        text-align: right;\n",
       "    }\n",
       "</style>\n",
       "<table border=\"1\" class=\"dataframe\">\n",
       "  <thead>\n",
       "    <tr style=\"text-align: right;\">\n",
       "      <th></th>\n",
       "      <th>Platform</th>\n",
       "      <th>Year</th>\n",
       "      <th>Genre</th>\n",
       "      <th>Publisher</th>\n",
       "      <th>NA_Sales</th>\n",
       "      <th>EU_Sales</th>\n",
       "      <th>Other_Sales</th>\n",
       "      <th>developper</th>\n",
       "      <th>metaNote</th>\n",
       "      <th>metaNbVote</th>\n",
       "      <th>userNote</th>\n",
       "      <th>userNbVote</th>\n",
       "      <th>serieB</th>\n",
       "      <th>SerieWeight</th>\n",
       "    </tr>\n",
       "  </thead>\n",
       "  <tbody>\n",
       "    <tr>\n",
       "      <th>33</th>\n",
       "      <td>3DS</td>\n",
       "      <td>2011.0</td>\n",
       "      <td>Racing</td>\n",
       "      <td>Nintendo</td>\n",
       "      <td>4.74</td>\n",
       "      <td>3.91</td>\n",
       "      <td>0.89</td>\n",
       "      <td>Entertainment Analysis &amp; Development Division</td>\n",
       "      <td>85.0</td>\n",
       "      <td>73.0</td>\n",
       "      <td>8.2</td>\n",
       "      <td>861.0</td>\n",
       "      <td>1</td>\n",
       "      <td>3</td>\n",
       "    </tr>\n",
       "    <tr>\n",
       "      <th>41</th>\n",
       "      <td>PS</td>\n",
       "      <td>1997.0</td>\n",
       "      <td>Racing</td>\n",
       "      <td>Sony Computer Entertainment</td>\n",
       "      <td>4.02</td>\n",
       "      <td>3.87</td>\n",
       "      <td>0.52</td>\n",
       "      <td>Polyphony Digital</td>\n",
       "      <td>75.0</td>\n",
       "      <td>83.0</td>\n",
       "      <td>6.1</td>\n",
       "      <td>1705.0</td>\n",
       "      <td>0</td>\n",
       "      <td>0</td>\n",
       "    </tr>\n",
       "    <tr>\n",
       "      <th>43</th>\n",
       "      <td>PS3</td>\n",
       "      <td>2009.0</td>\n",
       "      <td>Shooter</td>\n",
       "      <td>Activision</td>\n",
       "      <td>4.99</td>\n",
       "      <td>3.69</td>\n",
       "      <td>1.63</td>\n",
       "      <td>Infinity Ward</td>\n",
       "      <td>94.0</td>\n",
       "      <td>100.0</td>\n",
       "      <td>0.0</td>\n",
       "      <td>0.0</td>\n",
       "      <td>0</td>\n",
       "      <td>0</td>\n",
       "    </tr>\n",
       "    <tr>\n",
       "      <th>44</th>\n",
       "      <td>PS3</td>\n",
       "      <td>2008.0</td>\n",
       "      <td>Action</td>\n",
       "      <td>Take-Two Interactive</td>\n",
       "      <td>4.76</td>\n",
       "      <td>3.76</td>\n",
       "      <td>1.62</td>\n",
       "      <td>Rockstar North</td>\n",
       "      <td>98.0</td>\n",
       "      <td>64.0</td>\n",
       "      <td>7.7</td>\n",
       "      <td>4189.0</td>\n",
       "      <td>1</td>\n",
       "      <td>14</td>\n",
       "    </tr>\n",
       "    <tr>\n",
       "      <th>45</th>\n",
       "      <td>DS</td>\n",
       "      <td>2004.0</td>\n",
       "      <td>Platform</td>\n",
       "      <td>Nintendo</td>\n",
       "      <td>5.08</td>\n",
       "      <td>3.11</td>\n",
       "      <td>0.98</td>\n",
       "      <td>Nintendo</td>\n",
       "      <td>94.0</td>\n",
       "      <td>13.0</td>\n",
       "      <td>9.1</td>\n",
       "      <td>1450.0</td>\n",
       "      <td>0</td>\n",
       "      <td>0</td>\n",
       "    </tr>\n",
       "    <tr>\n",
       "      <th>...</th>\n",
       "      <td>...</td>\n",
       "      <td>...</td>\n",
       "      <td>...</td>\n",
       "      <td>...</td>\n",
       "      <td>...</td>\n",
       "      <td>...</td>\n",
       "      <td>...</td>\n",
       "      <td>...</td>\n",
       "      <td>...</td>\n",
       "      <td>...</td>\n",
       "      <td>...</td>\n",
       "      <td>...</td>\n",
       "      <td>...</td>\n",
       "      <td>...</td>\n",
       "    </tr>\n",
       "    <tr>\n",
       "      <th>11518</th>\n",
       "      <td>PC</td>\n",
       "      <td>2007.0</td>\n",
       "      <td>Sports</td>\n",
       "      <td>Konami Digital Entertainment</td>\n",
       "      <td>0.00</td>\n",
       "      <td>0.01</td>\n",
       "      <td>0.00</td>\n",
       "      <td>Konami</td>\n",
       "      <td>76.0</td>\n",
       "      <td>29.0</td>\n",
       "      <td>7.5</td>\n",
       "      <td>42.0</td>\n",
       "      <td>1</td>\n",
       "      <td>46</td>\n",
       "    </tr>\n",
       "    <tr>\n",
       "      <th>11522</th>\n",
       "      <td>PSV</td>\n",
       "      <td>2015.0</td>\n",
       "      <td>Platform</td>\n",
       "      <td>Rain Games</td>\n",
       "      <td>0.00</td>\n",
       "      <td>0.01</td>\n",
       "      <td>0.00</td>\n",
       "      <td>Rain Games</td>\n",
       "      <td>81.0</td>\n",
       "      <td>8.0</td>\n",
       "      <td>8.0</td>\n",
       "      <td>22.0</td>\n",
       "      <td>0</td>\n",
       "      <td>0</td>\n",
       "    </tr>\n",
       "    <tr>\n",
       "      <th>11525</th>\n",
       "      <td>XOne</td>\n",
       "      <td>2016.0</td>\n",
       "      <td>Sports</td>\n",
       "      <td>Alternative Software</td>\n",
       "      <td>0.00</td>\n",
       "      <td>0.01</td>\n",
       "      <td>0.00</td>\n",
       "      <td>Wicked Witch Software</td>\n",
       "      <td>64.0</td>\n",
       "      <td>4.0</td>\n",
       "      <td>6.1</td>\n",
       "      <td>15.0</td>\n",
       "      <td>1</td>\n",
       "      <td>4</td>\n",
       "    </tr>\n",
       "    <tr>\n",
       "      <th>11526</th>\n",
       "      <td>PC</td>\n",
       "      <td>2009.0</td>\n",
       "      <td>Shooter</td>\n",
       "      <td>Codemasters</td>\n",
       "      <td>0.00</td>\n",
       "      <td>0.01</td>\n",
       "      <td>0.00</td>\n",
       "      <td>Blue Omega</td>\n",
       "      <td>36.0</td>\n",
       "      <td>36.0</td>\n",
       "      <td>3.1</td>\n",
       "      <td>49.0</td>\n",
       "      <td>0</td>\n",
       "      <td>0</td>\n",
       "    </tr>\n",
       "    <tr>\n",
       "      <th>11533</th>\n",
       "      <td>DS</td>\n",
       "      <td>2009.0</td>\n",
       "      <td>Adventure</td>\n",
       "      <td>Deep Silver</td>\n",
       "      <td>0.00</td>\n",
       "      <td>0.01</td>\n",
       "      <td>0.00</td>\n",
       "      <td>Animation Arts</td>\n",
       "      <td>64.0</td>\n",
       "      <td>14.0</td>\n",
       "      <td>6.8</td>\n",
       "      <td>26.0</td>\n",
       "      <td>1</td>\n",
       "      <td>6</td>\n",
       "    </tr>\n",
       "  </tbody>\n",
       "</table>\n",
       "<p>8799 rows × 14 columns</p>\n",
       "</div>"
      ],
      "text/plain": [
       "      Platform    Year      Genre                     Publisher  NA_Sales  \\\n",
       "33         3DS  2011.0     Racing                      Nintendo      4.74   \n",
       "41          PS  1997.0     Racing   Sony Computer Entertainment      4.02   \n",
       "43         PS3  2009.0    Shooter                    Activision      4.99   \n",
       "44         PS3  2008.0     Action          Take-Two Interactive      4.76   \n",
       "45          DS  2004.0   Platform                      Nintendo      5.08   \n",
       "...        ...     ...        ...                           ...       ...   \n",
       "11518       PC  2007.0     Sports  Konami Digital Entertainment      0.00   \n",
       "11522      PSV  2015.0   Platform                    Rain Games      0.00   \n",
       "11525     XOne  2016.0     Sports          Alternative Software      0.00   \n",
       "11526       PC  2009.0    Shooter                   Codemasters      0.00   \n",
       "11533       DS  2009.0  Adventure                   Deep Silver      0.00   \n",
       "\n",
       "       EU_Sales  Other_Sales                                     developper  \\\n",
       "33         3.91         0.89  Entertainment Analysis & Development Division   \n",
       "41         3.87         0.52                              Polyphony Digital   \n",
       "43         3.69         1.63                                  Infinity Ward   \n",
       "44         3.76         1.62                                 Rockstar North   \n",
       "45         3.11         0.98                                       Nintendo   \n",
       "...         ...          ...                                            ...   \n",
       "11518      0.01         0.00                                         Konami   \n",
       "11522      0.01         0.00                                     Rain Games   \n",
       "11525      0.01         0.00                          Wicked Witch Software   \n",
       "11526      0.01         0.00                                     Blue Omega   \n",
       "11533      0.01         0.00                                 Animation Arts   \n",
       "\n",
       "       metaNote  metaNbVote  userNote  userNbVote  serieB  SerieWeight  \n",
       "33         85.0        73.0       8.2       861.0       1            3  \n",
       "41         75.0        83.0       6.1      1705.0       0            0  \n",
       "43         94.0       100.0       0.0         0.0       0            0  \n",
       "44         98.0        64.0       7.7      4189.0       1           14  \n",
       "45         94.0        13.0       9.1      1450.0       0            0  \n",
       "...         ...         ...       ...         ...     ...          ...  \n",
       "11518      76.0        29.0       7.5        42.0       1           46  \n",
       "11522      81.0         8.0       8.0        22.0       0            0  \n",
       "11525      64.0         4.0       6.1        15.0       1            4  \n",
       "11526      36.0        36.0       3.1        49.0       0            0  \n",
       "11533      64.0        14.0       6.8        26.0       1            6  \n",
       "\n",
       "[8799 rows x 14 columns]"
      ]
     },
     "execution_count": 31,
     "metadata": {},
     "output_type": "execute_result"
    }
   ],
   "source": [
    "df"
   ]
  },
  {
   "cell_type": "code",
   "execution_count": 10,
   "id": "fce9f420",
   "metadata": {},
   "outputs": [],
   "source": [
    "df = pd.get_dummies(df)\n",
    "target = df['EU_Sales']\n",
    "data = df.drop(['EU_Sales'], axis=1, inplace=False)"
   ]
  },
  {
   "cell_type": "code",
   "execution_count": 11,
   "id": "c5bc5520",
   "metadata": {},
   "outputs": [],
   "source": [
    "X_train, X_test, y_train, y_test = train_test_split(data, target, test_size=0.2, random_state=66)"
   ]
  },
  {
   "cell_type": "code",
   "execution_count": 12,
   "id": "4a4fb1c4",
   "metadata": {},
   "outputs": [],
   "source": [
    "scaler = preprocessing.StandardScaler().fit(X_train)\n",
    "X_train_scaled = scaler.transform(X_train)\n",
    "X_test_scaled = scaler.transform(X_test)"
   ]
  },
  {
   "cell_type": "code",
   "execution_count": 15,
   "id": "8e97aed9",
   "metadata": {},
   "outputs": [
    {
     "name": "stdout",
     "output_type": "stream",
     "text": [
      "Train score : -8182000236726531.0\n",
      "Test score : -7.021668159327496e+16\n",
      "MAE :  227826.7261039437\n"
     ]
    }
   ],
   "source": [
    "# Test du modèle de Régression Linéaire\n",
    "\n",
    "lr = LinearRegression()\n",
    "lr.fit(X_train, y_train)\n",
    "\n",
    "print(\"Train score :\", lr.score(X_train_scaled,y_train))\n",
    "print(\"Test score :\",lr.score(X_test_scaled,y_test))\n",
    "\n",
    "y_pred = lr.predict(X_test)\n",
    "print(\"MAE : \",mae(y_test, y_pred))"
   ]
  },
  {
   "cell_type": "markdown",
   "id": "16b3de42",
   "metadata": {},
   "source": [
    "TEST METHODE RIDGE"
   ]
  },
  {
   "cell_type": "code",
   "execution_count": 11,
   "id": "1dbc24fe",
   "metadata": {},
   "outputs": [
    {
     "name": "stdout",
     "output_type": "stream",
     "text": [
      "mae: 0.09244415139006187\n"
     ]
    }
   ],
   "source": [
    "#Données brutes\n",
    "ridge_reg = RidgeCV(alphas= (0.001, 0.01, 0.1, 0.3, 0.7, 1, 10, 50, 100))\n",
    "ridge_reg.fit(X_train, y_train)\n",
    "y_pred = ridge_reg.predict(X_test)\n",
    "print('mae:',mae(y_test, y_pred))"
   ]
  },
  {
   "cell_type": "code",
   "execution_count": 12,
   "id": "d16ce10d",
   "metadata": {},
   "outputs": [
    {
     "name": "stdout",
     "output_type": "stream",
     "text": [
      "mae: 0.10021362119648468\n"
     ]
    }
   ],
   "source": [
    "#Données recalibrées\n",
    "ridge_reg.fit(X_train_scaled, y_train)\n",
    "y_pred = ridge_reg.predict(X_test_scaled)\n",
    "print('mae:',mae(y_test, y_pred))"
   ]
  },
  {
   "cell_type": "markdown",
   "id": "b4d11852",
   "metadata": {},
   "source": [
    "TEST METHODE LASSO"
   ]
  },
  {
   "cell_type": "code",
   "execution_count": 13,
   "id": "3065eccf",
   "metadata": {},
   "outputs": [],
   "source": [
    "lasso_r = Lasso()\n"
   ]
  },
  {
   "cell_type": "code",
   "execution_count": 14,
   "id": "0ca0b61d",
   "metadata": {},
   "outputs": [
    {
     "name": "stdout",
     "output_type": "stream",
     "text": [
      "mae: 0.1927026641489446\n"
     ]
    }
   ],
   "source": [
    "#Données brutes\n",
    "lasso_r.fit(X_train, y_train)\n",
    "y_pred = lasso_r.predict(X_test)\n",
    "print('mae:',mae(y_test, y_pred))"
   ]
  },
  {
   "cell_type": "code",
   "execution_count": 15,
   "id": "95e781f5",
   "metadata": {},
   "outputs": [
    {
     "name": "stdout",
     "output_type": "stream",
     "text": [
      "mae: 0.20528286801456821\n"
     ]
    }
   ],
   "source": [
    "#Données recalibrées\n",
    "lasso_r.fit(X_train_scaled, y_train)\n",
    "y_pred = lasso_r.predict(X_test_scaled)\n",
    "print('mae:',mae(y_test, y_pred))"
   ]
  },
  {
   "cell_type": "markdown",
   "id": "c7a6558b",
   "metadata": {},
   "source": [
    "Methode LASSO CV"
   ]
  },
  {
   "cell_type": "code",
   "execution_count": 16,
   "id": "deeba070",
   "metadata": {},
   "outputs": [
    {
     "name": "stdout",
     "output_type": "stream",
     "text": [
      "mae: 0.20258082262274632\n"
     ]
    }
   ],
   "source": [
    "model_lasso = LassoCV(cv=10).fit(X_train, y_train)\n",
    "y_pred = model_lasso.predict(X_test)\n",
    "print('mae:',mae(y_test, y_pred))"
   ]
  },
  {
   "cell_type": "code",
   "execution_count": 17,
   "id": "be6240a5",
   "metadata": {},
   "outputs": [
    {
     "name": "stdout",
     "output_type": "stream",
     "text": [
      "mae: 0.08469666621957281\n"
     ]
    }
   ],
   "source": [
    "model_lasso = LassoCV(cv=10).fit(X_train_scaled, y_train)\n",
    "y_pred = model_lasso.predict(X_test_scaled)\n",
    "print('mae:',mae(y_test, y_pred))"
   ]
  },
  {
   "cell_type": "code",
   "execution_count": 18,
   "id": "671c6bab",
   "metadata": {},
   "outputs": [
    {
     "data": {
      "image/png": "[encoded data removed]",
      "text/plain": [
       "<Figure size 360x360 with 1 Axes>"
      ]
     },
     "metadata": {
      "needs_background": "light"
     },
     "output_type": "display_data"
    }
   ],
   "source": [
    "dfresult = pd.DataFrame(y_test)\n",
    "dfresult['pred']=y_pred\n",
    "sns.relplot(x='EU_Sales', y='pred', data=dfresult);"
   ]
  },
  {
   "cell_type": "markdown",
   "id": "e1d818c4",
   "metadata": {},
   "source": [
    "METHODE ELASTIC NET"
   ]
  },
  {
   "cell_type": "code",
   "execution_count": null,
   "id": "e3c714f3",
   "metadata": {},
   "outputs": [],
   "source": []
  },
  {
   "cell_type": "code",
   "execution_count": 19,
   "id": "2913d092",
   "metadata": {},
   "outputs": [],
   "source": [
    "model_en = ElasticNetCV(cv=8, l1_ratio=(0.1, 0.25, 0.5, 0.7, 0.75, 0.8, 0.85, 0.9, 0.99), \n",
    "                        alphas=(0.001, 0.01, 0.02, 0.025, 0.05, 0.1, 0.25, 0.5, 0.8, 1.0))"
   ]
  },
  {
   "cell_type": "code",
   "execution_count": 20,
   "id": "9147b0ca",
   "metadata": {},
   "outputs": [
    {
     "name": "stdout",
     "output_type": "stream",
     "text": [
      "mae: 0.08988219984155874\n"
     ]
    }
   ],
   "source": [
    "#Données brutes\n",
    "model_en.fit(X_train, y_train)\n",
    "y_pred = model_en.predict(X_test)\n",
    "print('mae:',mae(y_test, y_pred))"
   ]
  },
  {
   "cell_type": "code",
   "execution_count": 21,
   "id": "9b534f3a",
   "metadata": {},
   "outputs": [
    {
     "name": "stdout",
     "output_type": "stream",
     "text": [
      "mae: 0.08479548829455555\n"
     ]
    }
   ],
   "source": [
    "#Données recalibrées\n",
    "model_en.fit(X_train_scaled, y_train)\n",
    "y_pred = model_en.predict(X_test_scaled)\n",
    "print('mae:',mae(y_test, y_pred))"
   ]
  },
  {
   "cell_type": "code",
   "execution_count": 22,
   "id": "d13cbca5",
   "metadata": {},
   "outputs": [
    {
     "data": {
      "image/png": "[encoded data removed]",
      "text/plain": [
       "<Figure size 360x360 with 1 Axes>"
      ]
     },
     "metadata": {
      "needs_background": "light"
     },
     "output_type": "display_data"
    }
   ],
   "source": [
    "dfresult = pd.DataFrame(y_test)\n",
    "dfresult['pred']=y_pred\n",
    "sns.relplot(x='EU_Sales', y='pred', data=dfresult);\n",
    "\n"
   ]
  },
  {
   "cell_type": "code",
   "execution_count": 23,
   "id": "1b7838ed",
   "metadata": {},
   "outputs": [
    {
     "data": {
      "text/html": [
       "<div>\n",
       "<style scoped>\n",
       "    .dataframe tbody tr th:only-of-type {\n",
       "        vertical-align: middle;\n",
       "    }\n",
       "\n",
       "    .dataframe tbody tr th {\n",
       "        vertical-align: top;\n",
       "    }\n",
       "\n",
       "    .dataframe thead th {\n",
       "        text-align: right;\n",
       "    }\n",
       "</style>\n",
       "<table border=\"1\" class=\"dataframe\">\n",
       "  <thead>\n",
       "    <tr style=\"text-align: right;\">\n",
       "      <th></th>\n",
       "      <th>EU_Sales</th>\n",
       "      <th>pred</th>\n",
       "    </tr>\n",
       "  </thead>\n",
       "  <tbody>\n",
       "    <tr>\n",
       "      <th>1476</th>\n",
       "      <td>0.03</td>\n",
       "      <td>0.159094</td>\n",
       "    </tr>\n",
       "    <tr>\n",
       "      <th>8556</th>\n",
       "      <td>0.01</td>\n",
       "      <td>0.007936</td>\n",
       "    </tr>\n",
       "    <tr>\n",
       "      <th>1620</th>\n",
       "      <td>0.40</td>\n",
       "      <td>0.334324</td>\n",
       "    </tr>\n",
       "    <tr>\n",
       "      <th>11298</th>\n",
       "      <td>0.01</td>\n",
       "      <td>0.053475</td>\n",
       "    </tr>\n",
       "    <tr>\n",
       "      <th>10726</th>\n",
       "      <td>0.02</td>\n",
       "      <td>0.048909</td>\n",
       "    </tr>\n",
       "    <tr>\n",
       "      <th>...</th>\n",
       "      <td>...</td>\n",
       "      <td>...</td>\n",
       "    </tr>\n",
       "    <tr>\n",
       "      <th>9997</th>\n",
       "      <td>0.03</td>\n",
       "      <td>0.118351</td>\n",
       "    </tr>\n",
       "    <tr>\n",
       "      <th>6691</th>\n",
       "      <td>0.06</td>\n",
       "      <td>0.040600</td>\n",
       "    </tr>\n",
       "    <tr>\n",
       "      <th>1307</th>\n",
       "      <td>0.26</td>\n",
       "      <td>0.298992</td>\n",
       "    </tr>\n",
       "    <tr>\n",
       "      <th>2367</th>\n",
       "      <td>0.24</td>\n",
       "      <td>0.166183</td>\n",
       "    </tr>\n",
       "    <tr>\n",
       "      <th>6427</th>\n",
       "      <td>0.03</td>\n",
       "      <td>0.053472</td>\n",
       "    </tr>\n",
       "  </tbody>\n",
       "</table>\n",
       "<p>1760 rows × 2 columns</p>\n",
       "</div>"
      ],
      "text/plain": [
       "       EU_Sales      pred\n",
       "1476       0.03  0.159094\n",
       "8556       0.01  0.007936\n",
       "1620       0.40  0.334324\n",
       "11298      0.01  0.053475\n",
       "10726      0.02  0.048909\n",
       "...         ...       ...\n",
       "9997       0.03  0.118351\n",
       "6691       0.06  0.040600\n",
       "1307       0.26  0.298992\n",
       "2367       0.24  0.166183\n",
       "6427       0.03  0.053472\n",
       "\n",
       "[1760 rows x 2 columns]"
      ]
     },
     "execution_count": 23,
     "metadata": {},
     "output_type": "execute_result"
    }
   ],
   "source": [
    "dfresult"
   ]
  }
 ],
 "metadata": {
  "kernelspec": {
   "display_name": "Python 3",
   "language": "python",
   "name": "python3"
  },
  "language_info": {
   "codemirror_mode": {
    "name": "ipython",
    "version": 3
   },
   "file_extension": ".py",
   "mimetype": "text/x-python",
   "name": "python",
   "nbconvert_exporter": "python",
   "pygments_lexer": "ipython3",
   "version": "3.8.8"
  }
 },
 "nbformat": 4,
 "nbformat_minor": 5
}
